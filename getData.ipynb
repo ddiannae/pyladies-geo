{
 "cells": [
  {
   "cell_type": "code",
   "execution_count": 1,
   "metadata": {},
   "outputs": [],
   "source": [
    "import wget\n",
    "from zipfile import ZipFile"
   ]
  },
  {
   "cell_type": "markdown",
   "metadata": {},
   "source": [
    "### Datos de entidades económicas asociadas a la salud"
   ]
  },
  {
   "cell_type": "code",
   "execution_count": 2,
   "metadata": {},
   "outputs": [
    {
     "data": {
      "text/plain": [
       "'data/denue_salud.zip'"
      ]
     },
     "execution_count": 2,
     "metadata": {},
     "output_type": "execute_result"
    }
   ],
   "source": [
    "url = \"https://www.inegi.org.mx/contenidos/masiva/denue/denue_00_62_shp.zip\"\n",
    "wget.download(url, \"data/denue_salud.zip\")"
   ]
  },
  {
   "cell_type": "code",
   "execution_count": 3,
   "metadata": {},
   "outputs": [],
   "source": [
    "%%bash\n",
    "mkdir data/denue_salud"
   ]
  },
  {
   "cell_type": "code",
   "execution_count": 4,
   "metadata": {},
   "outputs": [],
   "source": [
    "with ZipFile(\"data/denue_salud.zip\", 'r') as zipObj:\n",
    "   # Extract all the contents of zip file in different directory\n",
    "   zipObj.extractall(\"data/denue_salud\")"
   ]
  },
  {
   "cell_type": "code",
   "execution_count": 5,
   "metadata": {},
   "outputs": [
    {
     "name": "stdout",
     "output_type": "stream",
     "text": [
      "total 2\n",
      "1 conjunto_de_datos\n",
      "1 diccionario_de_datos\n",
      "1 metadatos\n"
     ]
    }
   ],
   "source": [
    "%%bash\n",
    "ls -s data/denue_salud"
   ]
  },
  {
   "cell_type": "code",
   "execution_count": 6,
   "metadata": {},
   "outputs": [
    {
     "name": "stdout",
     "output_type": "stream",
     "text": [
      "total 52495\n",
      "52493 denue_inegi_62_.dbf\n",
      "    1 denue_inegi_62_.fix\n",
      "    1 denue_inegi_62_.prj\n",
      "    1 denue_inegi_62_.qix\n",
      "    1 denue_inegi_62_.shp\n",
      "    1 denue_inegi_62_.shx\n"
     ]
    }
   ],
   "source": [
    "%%bash\n",
    "ls -s data/denue_salud/conjunto_de_datos"
   ]
  },
  {
   "cell_type": "markdown",
   "metadata": {},
   "source": [
    "### Datos del marco geoestadístico"
   ]
  },
  {
   "cell_type": "code",
   "execution_count": 7,
   "metadata": {},
   "outputs": [
    {
     "data": {
      "text/plain": [
       "'data/marco_geoestadistico.zip'"
      ]
     },
     "execution_count": 7,
     "metadata": {},
     "output_type": "execute_result"
    }
   ],
   "source": [
    "url = \"http://internet.contenidos.inegi.org.mx/contenidos/Productos/prod_serv/contenidos/espanol/bvinegi/productos/geografia/marc_geo/889463084105_s.zip\"\n",
    "wget.download(url, \"data/marco_geoestadistico.zip\")"
   ]
  },
  {
   "cell_type": "code",
   "execution_count": 8,
   "metadata": {},
   "outputs": [],
   "source": [
    "%%bash\n",
    "mkdir data/marco_geoestadistico"
   ]
  },
  {
   "cell_type": "code",
   "execution_count": 9,
   "metadata": {},
   "outputs": [],
   "source": [
    "with ZipFile(\"data/marco_geoestadistico.zip\", 'r') as zipObj:\n",
    "   # Extract all the contents of zip file in different directory\n",
    "   zipObj.extractall(\"data/marco_geoestadistico\")"
   ]
  },
  {
   "cell_type": "code",
   "execution_count": 10,
   "metadata": {},
   "outputs": [
    {
     "name": "stdout",
     "output_type": "stream",
     "text": [
      "total 3\n",
      "2 CONTINUO_NACIONAL\n",
      "1 LEEME MARCO GEOESTAD╓STICO 2014 VERSIαN 6 2.pdf\n",
      "1 MGN6.2.html\n"
     ]
    }
   ],
   "source": [
    "%%bash\n",
    "ls -s data/marco_geoestadistico"
   ]
  },
  {
   "cell_type": "markdown",
   "metadata": {},
   "source": [
    "### Datos población"
   ]
  },
  {
   "cell_type": "code",
   "execution_count": 11,
   "metadata": {},
   "outputs": [
    {
     "data": {
      "text/plain": [
       "'data/poblacion.zip'"
      ]
     },
     "execution_count": 11,
     "metadata": {},
     "output_type": "execute_result"
    }
   ],
   "source": [
    "url = \"https://www.inegi.org.mx/contenidos/masiva/indicadores/temas/estructura/estructura_00_tsv.zip\"\n",
    "wget.download(url, \"data/poblacion.zip\")"
   ]
  },
  {
   "cell_type": "code",
   "execution_count": 12,
   "metadata": {},
   "outputs": [],
   "source": [
    "with ZipFile(\"data/poblacion.zip\", 'r') as zipObj:\n",
    "   # Extract all the contents of zip file in different directory\n",
    "   zipObj.extractall(\"data/\")"
   ]
  },
  {
   "cell_type": "code",
   "execution_count": 13,
   "metadata": {},
   "outputs": [
    {
     "name": "stdout",
     "output_type": "stream",
     "text": [
      "total 180191\n",
      "     1 denue_salud\n",
      " 40627 denue_salud.zip\n",
      "     1 estructura_00_valor.tsv\n",
      "    11 marco_geoestadistico\n",
      "139552 marco_geoestadistico.zip\n",
      "     1 poblacion.zip\n"
     ]
    }
   ],
   "source": [
    "%%bash\n",
    "ls -s data/"
   ]
  }
 ],
 "metadata": {
  "kernelspec": {
   "display_name": "Python 3",
   "language": "python",
   "name": "python3"
  },
  "language_info": {
   "codemirror_mode": {
    "name": "ipython",
    "version": 3
   },
   "file_extension": ".py",
   "mimetype": "text/x-python",
   "name": "python",
   "nbconvert_exporter": "python",
   "pygments_lexer": "ipython3",
   "version": "3.8.5"
  }
 },
 "nbformat": 4,
 "nbformat_minor": 4
}
